{
 "cells": [
  {
   "cell_type": "code",
   "execution_count": 2,
   "metadata": {},
   "outputs": [],
   "source": [
    "import torch\n",
    "from bert import BERTClassifier\n",
    "from transformers import BertTokenizerFast"
   ]
  },
  {
   "cell_type": "code",
   "execution_count": 3,
   "metadata": {},
   "outputs": [
    {
     "data": {
      "text/plain": [
       "<All keys matched successfully>"
      ]
     },
     "execution_count": 3,
     "metadata": {},
     "output_type": "execute_result"
    }
   ],
   "source": [
    "tokenizer = BertTokenizerFast.from_pretrained(\"bert-base-uncased\")\n",
    "device = torch.device(\"cuda\" if torch.cuda.is_available() else \"cpu\")\n",
    "model = BERTClassifier(\n",
    "    vocab_size=tokenizer.vocab_size,\n",
    "    hidden_size=128,\n",
    "    num_layers=4,\n",
    "    num_heads=4,\n",
    "    ff_dim=256,\n",
    "    dropout=0.1,\n",
    ").to(device)\n",
    "model.load_state_dict(torch.load(\"output/4-0.7982-model.pth\"))"
   ]
  },
  {
   "cell_type": "code",
   "execution_count": 4,
   "metadata": {},
   "outputs": [],
   "source": [
    "def inference(model, texts):\n",
    "    model.eval()\n",
    "    inputs = tokenizer(\n",
    "        texts,\n",
    "        padding=\"max_length\",\n",
    "        truncation=True,\n",
    "        max_length=64,\n",
    "        return_tensors=\"pt\",\n",
    "    )\n",
    "    input_ids = inputs[\"input_ids\"].to(device)\n",
    "    attention_mask = inputs[\"attention_mask\"].to(device)\n",
    "    with torch.no_grad():\n",
    "        outputs = model(input_ids, attention_mask)\n",
    "        probs = torch.nn.functional.softmax(outputs, dim=1).cpu().numpy()\n",
    "        labels = probs.argmax(axis=1)\n",
    "    return labels, probs"
   ]
  },
  {
   "cell_type": "code",
   "execution_count": null,
   "metadata": {},
   "outputs": [
    {
     "name": "stdout",
     "output_type": "stream",
     "text": [
      "Text: This movie was fantastic! -> Predicted Label: 1, Probability: [0.4303549  0.56964505]\n",
      "Text: I really hated this film. -> Predicted Label: 1, Probability: [0.3512742 0.6487258]\n",
      "Text: The plot was engaging but the acting was bad. -> Predicted Label: 0, Probability: [0.988986   0.01101394]\n"
     ]
    }
   ],
   "source": [
    "# Run inference on example sentences\n",
    "examples = [\n",
    "    \"This movie was fantastic!\",\n",
    "    \"I really hated this film.\",\n",
    "    \"The plot was engaging but the acting was bad.\",\n",
    "]\n",
    "labels, probs = inference(model, examples)\n",
    "for text, label, prob in zip(examples, labels, probs):\n",
    "    print(f\"Text: {text} -> Predicted Label: {label}, Probability: {prob}\")"
   ]
  }
 ],
 "metadata": {
  "kernelspec": {
   "display_name": "base",
   "language": "python",
   "name": "python3"
  },
  "language_info": {
   "codemirror_mode": {
    "name": "ipython",
    "version": 3
   },
   "file_extension": ".py",
   "mimetype": "text/x-python",
   "name": "python",
   "nbconvert_exporter": "python",
   "pygments_lexer": "ipython3",
   "version": "3.12.7"
  }
 },
 "nbformat": 4,
 "nbformat_minor": 2
}
